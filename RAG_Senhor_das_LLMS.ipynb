{
  "nbformat": 4,
  "nbformat_minor": 0,
  "metadata": {
    "colab": {
      "provenance": []
    },
    "kernelspec": {
      "name": "python3",
      "display_name": "Python 3"
    },
    "language_info": {
      "name": "python"
    }
  },
  "cells": [
    {
      "cell_type": "code",
      "execution_count": null,
      "metadata": {
        "id": "XIYxodkYGuj6"
      },
      "outputs": [],
      "source": [
        "!pip install -qU langchain-openai\n",
        "!pip install -qU langchain-community\n",
        "!pip install pypdf"
      ]
    },
    {
      "cell_type": "code",
      "source": [
        "from langchain_openai import ChatOpenAI"
      ],
      "metadata": {
        "id": "ge4WB5uzLE6x"
      },
      "execution_count": null,
      "outputs": []
    },
    {
      "cell_type": "code",
      "source": [
        "from google.colab import userdata\n",
        "import os\n",
        "\n",
        "keys = ['OPENAI_API_KEY']\n",
        "for key in keys:\n",
        "  os.environ[key] = userdata.get(key)"
      ],
      "metadata": {
        "id": "VegtE6b0Pi4F"
      },
      "execution_count": null,
      "outputs": []
    },
    {
      "cell_type": "code",
      "source": [
        "model = ChatOpenAI(model='gpt-4o-mini', temperature=0)"
      ],
      "metadata": {
        "id": "wgUQL8CFN-s5"
      },
      "execution_count": null,
      "outputs": []
    },
    {
      "cell_type": "code",
      "source": [
        "from langchain_openai import OpenAIEmbeddings\n",
        "\n",
        "embeddings = OpenAIEmbeddings(model = 'text-embedding-3-large')"
      ],
      "metadata": {
        "id": "AAFpxbZLPgmF"
      },
      "execution_count": null,
      "outputs": []
    },
    {
      "cell_type": "code",
      "source": [
        "embeddings.embed_query('Qual é meu nome?')"
      ],
      "metadata": {
        "id": "Dl4fU5qqQQcp"
      },
      "execution_count": null,
      "outputs": []
    },
    {
      "cell_type": "code",
      "source": [
        "from langchain_community.vectorstores import InMemoryVectorStore\n",
        "\n",
        "vector_store = InMemoryVectorStore(embeddings)"
      ],
      "metadata": {
        "id": "7flXGnZfQtSp"
      },
      "execution_count": null,
      "outputs": []
    },
    {
      "cell_type": "code",
      "source": [
        "from google.colab import drive\n",
        "drive.mount('/content/drive')"
      ],
      "metadata": {
        "colab": {
          "base_uri": "https://localhost:8080/"
        },
        "id": "K4ULf-slUfmu",
        "outputId": "108fa777-fa00-4399-d009-5fe626bbe705"
      },
      "execution_count": null,
      "outputs": [
        {
          "output_type": "stream",
          "name": "stdout",
          "text": [
            "Mounted at /content/drive\n"
          ]
        }
      ]
    },
    {
      "cell_type": "code",
      "source": [
        "from langchain_community.document_loaders import PyPDFLoader"
      ],
      "metadata": {
        "id": "LNcJfHFiXXW_"
      },
      "execution_count": null,
      "outputs": []
    },
    {
      "cell_type": "code",
      "source": [
        "def processa_arquivo(caminho):\n",
        "  loader = PyPDFLoader(caminho)\n",
        "  return loader.load()\n",
        "\n",
        "files = '/content/drive/MyDrive/Citrus_Hat.pdf'"
      ],
      "metadata": {
        "id": "dDwd1MArXnV7"
      },
      "execution_count": null,
      "outputs": []
    },
    {
      "cell_type": "code",
      "source": [
        "document = processa_arquivo(files)\n",
        "print(document)"
      ],
      "metadata": {
        "colab": {
          "base_uri": "https://localhost:8080/"
        },
        "id": "QlF49lhJadcx",
        "outputId": "65bad942-7e9c-4c25-e926-03ec3b47b93e"
      },
      "execution_count": null,
      "outputs": [
        {
          "output_type": "stream",
          "name": "stdout",
          "text": [
            "[Document(metadata={'producer': 'Microsoft® Word 2013', 'creator': 'Microsoft® Word 2013', 'creationdate': '2016-02-15T18:59:58-08:00', 'title': 'SIDEKICK', 'author': 'Laura Treadway', 'moddate': '2016-02-15T18:59:58-08:00', 'source': '/content/drive/MyDrive/Citrus_Hat.pdf', 'total_pages': 2, 'page': 0, 'page_label': '1'}, page_content='Copyright © 2016 all rights reserved ~ Laura Treadway \\nwww.lauratreadway.com ~ potentialofyarn.blogspot.com \\nA pattern for non-commercial use, please feel free to share but keep the copyright notice intact. \\n \\nCalled the Citrus Hat for the way the \\ndecreases create the appearance of a \\ncitrus fruit, this is a pretty basic hat \\npattern that works well with pretty much \\nany yarn and can fit multiple head sizes.  \\n \\nIt looks great in handspun or commercial \\nyarn, and in solid, semi-solid, or variegated \\ncolorways. The combination of knits and \\npurls used throughout the hat means it is \\nvery accommodating of different head \\nsizes and a good match for kids that keep \\ngrowing.  \\n \\nWhile the pattern is written for worsted-weight yarn, it’s easy to adjust for different yarn weights, and \\nthe pattern includes some helpful hints for yarn modifications.  \\n \\nMaterials: \\n\\uf0b7 Depending on the size you are knitting, 75-125 yards of worsted weight yarn (or yarn of your \\nchoice. Less yardage will work for smaller heads or bulkier yarn; more yardage will be needed \\nfor larger heads or thinner yarn). \\n\\uf0b7 US size 4 (3.5 mm) and US size 6 (4.0 mm) circular needles – or adjust size if substituting yarn. \\nUsing DPNs or two circular needles can be very helpful for the cast-on in the smaller sizes. \\n\\uf0b7 Stitch marker(s), darning needle \\n \\nSkills Used: \\n\\uf0b7 Knitting in the round, decreasing, using DPNs and circular needles \\n\\uf0b7 Stiches used: Knit, purl, k2tog (knit 2 together), p2tog (purl 2 together), and ssk (slip slip knit)'), Document(metadata={'producer': 'Microsoft® Word 2013', 'creator': 'Microsoft® Word 2013', 'creationdate': '2016-02-15T18:59:58-08:00', 'title': 'SIDEKICK', 'author': 'Laura Treadway', 'moddate': '2016-02-15T18:59:58-08:00', 'source': '/content/drive/MyDrive/Citrus_Hat.pdf', 'total_pages': 2, 'page': 1, 'page_label': '2'}, page_content='Copyright © 2016 all rights reserved ~ Laura Treadway \\nwww.lauratreadway.com ~ potentialofyarn.blogspot.com \\nA pattern for non-commercial use, please feel free to share but keep the copyright notice intact. \\n Baby  Toddler Child-Teen Adult Small Adult Large \\nHat size 14-16 inches 17 inches 18-19 inches 20 inches 22 inches \\n(Hat size includes approximately 2 inches of negative ease compared to average head size) \\nCast on CO 64 CO 72 sts CO 88 sts CO 96 sts  CO 104 sts \\nBrim rows For 1-1.5 inches For 1.5-2 inches \\nBody rows Knit body of hat to 5.5 inches from cast-on edge Knit to 6 inches from cast-on  \\n \\nInstructions \\n\\uf0b7 CO number of stitches indicated in chart above using US 4s (3.5 mm) (DPNs or two circs \\nrecommended for smaller sizes) \\no Use a stitch marker to mark the beginning of the round \\n\\uf0b7 Brim rows: (*k2, p2); repeat from * to the end of the row \\no Repeat this 2x2 ribbing for 1 to 1.5 (1.5 to 2) inches \\n\\uf0b7 Switch to US 6s (4.0 mm) needles and knit the body rows: \\no Body rows: (*k6, p2); repeat from * to the end of the row \\no Repeat this k6, p2 ribbing until 5.5 (6) inches from the cast-on edge \\n\\uf0b7 Decrease rows – note that they work so that the p2 columns remain intact: \\no Row 1: (*k4, k2tog, p2); repeat from * to the end of the row \\no Rows 2, 4, 6, 8 (“plain row”): knit the knits and purl the purls \\no Row 3: (*ssk, k3, p2); repeat from * to the end of the row \\no Row 5: (*k2, k2tog, p2); repeat from * to the end of the row \\no Row 7: (*ssk, k1, p2); repeat from * to the end of the row \\no Row 9: (*k2tog, p2); repeat from * to the end of the row \\no Row 10: purl all stitches \\no Row 11: (*p2tog); repeat from * to the end of the row \\no Row 12: (*p2tog); repeat from * to the end of the row \\n\\uf0a7 If you have an uneven number of stitches in one row, you can just purl the final \\nstich of a row, or continue to p2tog until there are approximately 6 to 10 sts left \\n\\uf0b7 Finishing: Break yarn, sew the remaining sts together, and weave in ends \\n \\nAdjustments pointers: \\n\\uf0b7 If you want to use thinner or bulkier yarn, \\nadjust the number of stitches you cast on by \\nmultiples of 8 \\n\\uf0b7 Make a stockinette gauge swatch to help \\ndetermine how to adjust the number of \\nstitches you need, based on “hat size” in the \\nchart above \\n\\uf0b7 If using yarn that is sport weight or thinner, \\nknit two “plain rows” between each \\ndecrease row to keep the hat from being too \\nshort \\n\\uf0b7 Have fun – this hat is very forgiving!!')]\n"
          ]
        }
      ]
    },
    {
      "cell_type": "code",
      "source": [
        "document[0].page_content\n"
      ],
      "metadata": {
        "colab": {
          "base_uri": "https://localhost:8080/",
          "height": 122
        },
        "id": "z73l8KZ5agxX",
        "outputId": "0d0f508d-369d-4d4e-d9a7-7e7d014b3ea4"
      },
      "execution_count": null,
      "outputs": [
        {
          "output_type": "execute_result",
          "data": {
            "text/plain": [
              "'Copyright © 2016 all rights reserved ~ Laura Treadway \\nwww.lauratreadway.com ~ potentialofyarn.blogspot.com \\nA pattern for non-commercial use, please feel free to share but keep the copyright notice intact. \\n \\nCalled the Citrus Hat for the way the \\ndecreases create the appearance of a \\ncitrus fruit, this is a pretty basic hat \\npattern that works well with pretty much \\nany yarn and can fit multiple head sizes.  \\n \\nIt looks great in handspun or commercial \\nyarn, and in solid, semi-solid, or variegated \\ncolorways. The combination of knits and \\npurls used throughout the hat means it is \\nvery accommodating of different head \\nsizes and a good match for kids that keep \\ngrowing.  \\n \\nWhile the pattern is written for worsted-weight yarn, it’s easy to adjust for different yarn weights, and \\nthe pattern includes some helpful hints for yarn modifications.  \\n \\nMaterials: \\n\\uf0b7 Depending on the size you are knitting, 75-125 yards of worsted weight yarn (or yarn of your \\nchoice. Less yardage will work for smaller heads or bulkier yarn; more yardage will be needed \\nfor larger heads or thinner yarn). \\n\\uf0b7 US size 4 (3.5 mm) and US size 6 (4.0 mm) circular needles – or adjust size if substituting yarn. \\nUsing DPNs or two circular needles can be very helpful for the cast-on in the smaller sizes. \\n\\uf0b7 Stitch marker(s), darning needle \\n \\nSkills Used: \\n\\uf0b7 Knitting in the round, decreasing, using DPNs and circular needles \\n\\uf0b7 Stiches used: Knit, purl, k2tog (knit 2 together), p2tog (purl 2 together), and ssk (slip slip knit)'"
            ],
            "application/vnd.google.colaboratory.intrinsic+json": {
              "type": "string"
            }
          },
          "metadata": {},
          "execution_count": 38
        }
      ]
    },
    {
      "cell_type": "code",
      "source": [
        "vector_store.add_documents(document)"
      ],
      "metadata": {
        "id": "w6E1cZr5bd5V"
      },
      "execution_count": null,
      "outputs": []
    },
    {
      "cell_type": "code",
      "source": [
        "!pip install -quiet langchain-text-splitters\n"
      ],
      "metadata": {
        "colab": {
          "base_uri": "https://localhost:8080/"
        },
        "id": "wjwBq4YKdGxZ",
        "outputId": "f651effd-9138-465f-ff43-53639606c7e9"
      },
      "execution_count": null,
      "outputs": [
        {
          "output_type": "stream",
          "name": "stdout",
          "text": [
            "\n",
            "Usage:   \n",
            "  pip3 install [options] <requirement specifier> [package-index-options] ...\n",
            "  pip3 install [options] -r <requirements file> [package-index-options] ...\n",
            "  pip3 install [options] [-e] <vcs project url> ...\n",
            "  pip3 install [options] [-e] <local project path> ...\n",
            "  pip3 install [options] <archive url/path> ...\n",
            "\n",
            "no such option: -u\n"
          ]
        }
      ]
    },
    {
      "cell_type": "code",
      "source": [
        "from langchain_text_splitters import RecursiveCharacterTextSplitter\n",
        "\n",
        "text_splitter = RecursiveCharacterTextSplitter(chunk_size=500, chunk_overlap=220, add_start_index=True)"
      ],
      "metadata": {
        "id": "pVEC2C7ibzaM"
      },
      "execution_count": null,
      "outputs": []
    },
    {
      "cell_type": "code",
      "source": [
        "all_splits = text_splitter.split_documents(document)\n",
        "len(all_splits)"
      ],
      "metadata": {
        "colab": {
          "base_uri": "https://localhost:8080/"
        },
        "id": "fcsGL629dvNf",
        "outputId": "d0595a46-6ce3-4ebf-def8-4de679c0e7b9"
      },
      "execution_count": null,
      "outputs": [
        {
          "output_type": "execute_result",
          "data": {
            "text/plain": [
              "13"
            ]
          },
          "metadata": {},
          "execution_count": 53
        }
      ]
    },
    {
      "cell_type": "code",
      "source": [
        "vector_store = InMemoryVectorStore(embeddings)\n",
        "vector_store.add_documents(all_splits)"
      ],
      "metadata": {
        "id": "K_9-N6hSe4dO"
      },
      "execution_count": null,
      "outputs": []
    }
  ]
}